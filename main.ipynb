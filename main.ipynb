{
 "cells": [
  {
   "cell_type": "markdown",
   "metadata": {},
   "source": [
    "## IMAGE PROCESSING\n",
    "\n",
    "- In this project we are gonna focus on building a watermaking app\n",
    "    + The idea is to insert a logo or a name in a file(image)\n",
    "    + This could have many application one being integrity preservation in photos\n"
   ]
  },
  {
   "cell_type": "code",
   "execution_count": null,
   "metadata": {},
   "outputs": [],
   "source": [
    "# dependancies\n",
    "import numpy as np\n",
    "from PIL import Image\n",
    "import requests\n",
    "import cv2 \n",
    "import os"
   ]
  },
  {
   "cell_type": "markdown",
   "metadata": {},
   "source": [
    "- STEPS\n",
    "    - loading Image .i.e using the pillow library\n",
    "     in this case we are gnna load an image from the google drive.\n",
    "    - converting the photo into array of input\n",
    "    - \n",
    "### CRUX \n",
    "- Being able to insert logo and text in the image.........> objective(1)\n",
    "- In the following steps we are gonna save the image object in two variable that will allow for practical demonstration of objective 1\n"
   ]
  },
  {
   "cell_type": "code",
   "execution_count": null,
   "metadata": {},
   "outputs": [],
   "source": [
    "#reading image from the url\n",
    "URL = 'https://photos.google.com/photo/AF1QipNbWo7XCrpP0a42BhjwV2DIpkEsDhQ76TzngJ6H'\n",
    "PATH = r\"C:\\Users\\PC\\Downloads\\streets.jpg\"\n",
    "#responce = requests.get(URL,stream=True)\n",
    "img= Image.open(PATH)\n",
    "img_text =  img.resize((500,300))\n",
    "img_logo = img.resize((500, 300))\n",
    "# create two variable for image object i..e for \n",
    "\n",
    "img_text\n",
    "\n",
    "\n"
   ]
  },
  {
   "cell_type": "code",
   "execution_count": null,
   "metadata": {},
   "outputs": [],
   "source": [
    "# logo photo\n",
    "PATH = r'C:\\Users\\PC\\Downloads\\Micky.png'\n",
    "logo = Image.open(PATH)\n",
    "logo"
   ]
  },
  {
   "cell_type": "code",
   "execution_count": null,
   "metadata": {},
   "outputs": [],
   "source": [
    "# Convering the images to RGB format and an numpy array.\n",
    "img_logo= np.array(img_logo.convert('RGB'))\n",
    "\n",
    "\n",
    "# unpucking the shape of the image \n",
    "h_img_logo,w_img_logo ,_= img_logo.shape"
   ]
  },
  {
   "cell_type": "code",
   "execution_count": null,
   "metadata": {},
   "outputs": [],
   "source": [
    "h_img_logo"
   ]
  },
  {
   "cell_type": "code",
   "execution_count": null,
   "metadata": {},
   "outputs": [],
   "source": [
    "# logo\n",
    "logo = np.array(logo.convert('RGB'))\n",
    "\n",
    "h_logo , w_logo, _ =logo.shape"
   ]
  },
  {
   "cell_type": "code",
   "execution_count": null,
   "metadata": {},
   "outputs": [],
   "source": [
    "# Next step is identifying the location to place the watermark\n",
    "# in ths case the half of the oroginal image\n",
    "center_x =int(w_img_logo/2)\n",
    "center_y = int(h_img_logo/2)\n",
    "\n",
    "# recall that the starting point for pixel cordinate system is the top-left corner\n",
    "top_y = center_y - int(h_logo/2)\n",
    "left_x = center_x - int(w_logo/2)\n",
    "\n",
    "# logo final position \n",
    "bottom_y = top_y + h_logo\n",
    "right_x = left_x + w_logo\n"
   ]
  },
  {
   "cell_type": "code",
   "execution_count": null,
   "metadata": {},
   "outputs": [],
   "source": [
    "#find ROI (region of intrest)\n",
    "ROI = img_logo[top_y:bottom_y,left_x:right_x]\n",
    "\n",
    "#adding the logo to the area of intrest\n",
    "result = cv2.addWeighted(ROI,1,logo.resize(100,500),1,0)\n"
   ]
  },
  {
   "cell_type": "code",
   "execution_count": null,
   "metadata": {},
   "outputs": [],
   "source": [
    "ROI.shape"
   ]
  },
  {
   "cell_type": "code",
   "execution_count": null,
   "metadata": {},
   "outputs": [],
   "source": [
    "logo.shape"
   ]
  },
  {
   "cell_type": "code",
   "execution_count": null,
   "metadata": {},
   "outputs": [],
   "source": [
    "#drawing\n",
    "cv2.line(img_logo,(0,center_y), (left_x, center_y), (0, 0, 255), 1)\n",
    "cv2.line(img_logo,(right_x,center_y), (w_logo, center_y), (0,0,255), 1)"
   ]
  },
  {
   "cell_type": "code",
   "execution_count": null,
   "metadata": {},
   "outputs": [],
   "source": [
    "# replacing the ROI on the image \n",
    "img_logo[top_y:bottom_y, left_x:right_x] = result"
   ]
  }
 ],
 "metadata": {
  "kernelspec": {
   "display_name": "env",
   "language": "python",
   "name": "python3"
  },
  "language_info": {
   "codemirror_mode": {
    "name": "ipython",
    "version": 3
   },
   "file_extension": ".py",
   "mimetype": "text/x-python",
   "name": "python",
   "nbconvert_exporter": "python",
   "pygments_lexer": "ipython3",
   "version": "3.12.1"
  }
 },
 "nbformat": 4,
 "nbformat_minor": 2
}
